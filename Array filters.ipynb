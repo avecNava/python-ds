{
 "cells": [
  {
   "cell_type": "markdown",
   "metadata": {},
   "source": [
    "# Array filters\n"
   ]
  },
  {
   "cell_type": "code",
   "execution_count": 12,
   "metadata": {},
   "outputs": [],
   "source": [
    "import numpy as np"
   ]
  },
  {
   "cell_type": "code",
   "execution_count": 13,
   "metadata": {},
   "outputs": [
    {
     "name": "stdout",
     "output_type": "stream",
     "text": [
      "[37, 76, 93, 74, 54, 44, 30, 30, 25, 42, 70, 10, 39, 4, 98, 84, 26, 40, 80, 46, 21, 46, 35, 88, 25, 94, 74, 52, 41, 32, 87, 92, 39, 94, 72, 32, 28, 2, 93, 45, 67, 33, 44, 36, 7, 16, 61, 26, 8, 49, 28, 83, 86, 35, 5, 97, 1, 83, 4, 24, 77, 54, 65, 10, 27, 11, 10, 9, 29, 95, 69, 82, 26, 24, 47, 7, 49, 26, 73, 50, 38, 62, 76, 48, 95, 75, 85, 99, 17, 65, 97, 21, 79, 69, 98, 77, 81, 97, 47, 93]\n"
     ]
    }
   ],
   "source": [
    "arr = []\n",
    "for x in range(100):\n",
    "   rand = np.random.randint(1,100)\n",
    "   arr.append(rand)\n",
    "\n",
    "print(arr)\n"
   ]
  },
  {
   "cell_type": "markdown",
   "metadata": {},
   "source": [
    "Filter array wit values >= 50"
   ]
  },
  {
   "cell_type": "code",
   "execution_count": 14,
   "metadata": {},
   "outputs": [
    {
     "name": "stdout",
     "output_type": "stream",
     "text": [
      "[76, 93, 74, 54, 70, 98, 84, 80, 88, 94, 74, 52, 87, 92, 94, 72, 93, 67, 61, 83, 86, 97, 83, 77, 54, 65, 95, 69, 82, 73, 50, 62, 76, 95, 75, 85, 99, 65, 97, 79, 69, 98, 77, 81, 97, 93]\n"
     ]
    }
   ],
   "source": [
    "arr50 = [n for n in arr if n>=50]\n",
    "print(arr50)"
   ]
  },
  {
   "cell_type": "code",
   "execution_count": 15,
   "metadata": {},
   "outputs": [
    {
     "name": "stdout",
     "output_type": "stream",
     "text": [
      "76\n",
      "93\n",
      "74\n",
      "54\n",
      "70\n",
      "98\n",
      "84\n",
      "80\n",
      "88\n",
      "94\n",
      "74\n",
      "52\n",
      "87\n",
      "92\n",
      "94\n",
      "72\n",
      "93\n",
      "67\n",
      "61\n",
      "83\n",
      "86\n",
      "97\n",
      "83\n",
      "77\n",
      "54\n",
      "65\n",
      "95\n",
      "69\n",
      "82\n",
      "73\n",
      "50\n",
      "62\n",
      "76\n",
      "95\n",
      "75\n",
      "85\n",
      "99\n",
      "65\n",
      "97\n",
      "79\n",
      "69\n",
      "98\n",
      "77\n",
      "81\n",
      "97\n",
      "93\n"
     ]
    }
   ],
   "source": [
    "arr50=filter(lambda x : x>=50 , arr)\n",
    "for n in arr50: \n",
    "    print (n)"
   ]
  },
  {
   "cell_type": "code",
   "execution_count": null,
   "metadata": {},
   "outputs": [],
   "source": []
  }
 ],
 "metadata": {
  "kernelspec": {
   "display_name": "Python 3",
   "language": "python",
   "name": "python3"
  },
  "language_info": {
   "codemirror_mode": {
    "name": "ipython",
    "version": 3
   },
   "file_extension": ".py",
   "mimetype": "text/x-python",
   "name": "python",
   "nbconvert_exporter": "python",
   "pygments_lexer": "ipython3",
   "version": "3.5.6"
  }
 },
 "nbformat": 4,
 "nbformat_minor": 4
}
