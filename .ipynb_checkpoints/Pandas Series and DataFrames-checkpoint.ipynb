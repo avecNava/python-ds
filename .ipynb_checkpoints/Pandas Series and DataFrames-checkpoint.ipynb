{
 "cells": [
  {
   "cell_type": "markdown",
   "metadata": {},
   "source": [
    "# Hello World\n",
    "Hello word. This is my first notebook in Data Science course."
   ]
  },
  {
   "cell_type": "code",
   "execution_count": 1,
   "metadata": {},
   "outputs": [],
   "source": [
    "import pandas as pd"
   ]
  },
  {
   "cell_type": "code",
   "execution_count": 3,
   "metadata": {},
   "outputs": [
    {
     "name": "stdout",
     "output_type": "stream",
     "text": [
      "0     Kathmandu\n",
      "1       Pokhara\n",
      "2    Biratnagar\n",
      "3     Bharatpur\n",
      "4        Joomla\n",
      "dtype: object\n"
     ]
    }
   ],
   "source": [
    "airports = pd.Series(['Kathmandu','Pokhara','Biratnagar','Bharatpur','Joomla'])\n",
    "print(airports)"
   ]
  },
  {
   "cell_type": "markdown",
   "metadata": {},
   "source": [
    "## DataFrame\n",
    "A dataframe is a 2 dimensional data structure, with columns and rows.\n",
    "It takes list of lists as input. The column names could be added at the end of the constructor"
   ]
  },
  {
   "cell_type": "code",
   "execution_count": 9,
   "metadata": {},
   "outputs": [
    {
     "name": "stdout",
     "output_type": "stream",
     "text": [
      "           0        1   2\n",
      "0  Kathmandu  Bagmati  NP\n",
      "1    Pokhara           NP\n",
      "2  Bharatpur           NP\n"
     ]
    }
   ],
   "source": [
    "airports = pd.DataFrame([\n",
    "    ['Kathmandu','Bagmati','NP'],\n",
    "    ['Pokhara','','NP'],\n",
    "    ['Bharatpur','','NP']\n",
    "])\n",
    "print(airports)"
   ]
  },
  {
   "cell_type": "markdown",
   "metadata": {},
   "source": [
    "Adding column names"
   ]
  },
  {
   "cell_type": "code",
   "execution_count": 10,
   "metadata": {},
   "outputs": [
    {
     "name": "stdout",
     "output_type": "stream",
     "text": [
      "  Airport name     City Country\n",
      "0    Kathmandu  Bagmati      NP\n",
      "1      Pokhara               NP\n",
      "2    Bharatpur               NP\n"
     ]
    }
   ],
   "source": [
    "airports = pd.DataFrame(\n",
    "[\n",
    "    ['Kathmandu','Bagmati','NP'],\n",
    "    ['Pokhara','','NP'],\n",
    "    ['Bharatpur','','NP']\n",
    "],\n",
    "    columns=['Airport name','City','Country']\n",
    ")\n",
    "print(airports)"
   ]
  },
  {
   "cell_type": "code",
   "execution_count": null,
   "metadata": {},
   "outputs": [],
   "source": []
  }
 ],
 "metadata": {
  "kernelspec": {
   "display_name": "Python 3",
   "language": "python",
   "name": "python3"
  },
  "language_info": {
   "codemirror_mode": {
    "name": "ipython",
    "version": 3
   },
   "file_extension": ".py",
   "mimetype": "text/x-python",
   "name": "python",
   "nbconvert_exporter": "python",
   "pygments_lexer": "ipython3",
   "version": "3.5.6"
  }
 },
 "nbformat": 4,
 "nbformat_minor": 4
}
